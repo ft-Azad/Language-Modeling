{
  "nbformat": 4,
  "nbformat_minor": 0,
  "metadata": {
    "colab": {
      "provenance": [],
      "gpuType": "T4"
    },
    "kernelspec": {
      "name": "python3",
      "display_name": "Python 3"
    },
    "language_info": {
      "name": "python"
    },
    "accelerator": "GPU"
  },
  "cells": [
    {
      "cell_type": "markdown",
      "source": [
        "**Install requirements**\n",
        "\n",
        "Note: The requirements.txt file is the output from a Colab environment, so it may contain more dependencies than are actually needed for your project.\n",
        "\n"
      ],
      "metadata": {
        "id": "AbHcBIE7Gxix"
      }
    },
    {
      "cell_type": "code",
      "source": [
        "# pip install -r requirements.txt"
      ],
      "metadata": {
        "id": "mAYOisj8G2Uz"
      },
      "execution_count": null,
      "outputs": []
    },
    {
      "cell_type": "code",
      "execution_count": null,
      "metadata": {
        "id": "Pr3Ej1vpMfJT"
      },
      "outputs": [],
      "source": [
        "!pip install -q torchmetrics\n",
        "!pip install -q torchdata==0.6.1\n",
        "!pip install -q 'portalocker>=2.0.0'\n",
        "!pip install -q torchtext==0.15.1\n",
        "!pip install -q comet_ml"
      ]
    },
    {
      "cell_type": "markdown",
      "source": [
        "**Unzip or clone project files**\n",
        "\n",
        "Unpack the project files by either:\n",
        "\n",
        "- Unzipping the downloaded project archive\n",
        "- Cloning the project repository using Git"
      ],
      "metadata": {
        "id": "p5u22M0iDDh1"
      }
    },
    {
      "cell_type": "code",
      "source": [
        "!unzip \"/content/LanguageModeling.zip\" -d '/content/'"
      ],
      "metadata": {
        "id": "ivaym5jvat5N"
      },
      "execution_count": null,
      "outputs": []
    },
    {
      "cell_type": "markdown",
      "source": [
        "**Change directory to project folder**"
      ],
      "metadata": {
        "id": "VZ4Gaq4lDWCM"
      }
    },
    {
      "cell_type": "code",
      "source": [
        "%cd /content"
      ],
      "metadata": {
        "id": "DQ0T7ttWcy_t"
      },
      "execution_count": null,
      "outputs": []
    },
    {
      "cell_type": "markdown",
      "source": [
        "**Train the model**"
      ],
      "metadata": {
        "id": "j65qJhrHEKem"
      }
    },
    {
      "cell_type": "code",
      "source": [
        "!python src/train.py --epochs 30 --lr 7.5 --seq_len 70"
      ],
      "metadata": {
        "id": "bzkODMBnClpU"
      },
      "execution_count": null,
      "outputs": []
    },
    {
      "cell_type": "markdown",
      "source": [
        "To see the available command-line arguments and their default values, you can run:\n",
        "\n"
      ],
      "metadata": {
        "id": "0uGcxIrNEWTC"
      }
    },
    {
      "cell_type": "code",
      "source": [
        "!python src/train.py --help"
      ],
      "metadata": {
        "colab": {
          "base_uri": "https://localhost:8080/"
        },
        "id": "QC0dknYBCkss",
        "outputId": "417199c4-2e4d-40fa-ec29-a6f11e1b2cab"
      },
      "execution_count": 16,
      "outputs": [
        {
          "output_type": "stream",
          "name": "stdout",
          "text": [
            "usage: train.py [-h] [--num_layers NUM_LAYERS] [--hidden_dim HIDDEN_DIM] [--embed_dim EMBED_DIM]\n",
            "                [--dropoute DROPOUTE] [--dropouti DROPOUTI] [--dropouth DROPOUTH]\n",
            "                [--dropouto DROPOUTO] [--weight_drop WEIGHT_DROP] [--dataset DATASET]\n",
            "                [--seq_len SEQ_LEN] [--epochs EPOCHS] [--batch_size BATCH_SIZE] [--lr LR]\n",
            "                [--momentum MOMENTUM] [--weight_decay WEIGHT_DECAY] [--clip CLIP]\n",
            "                [--resume RESUME] [--save_folder SAVE_FOLDER] [--eval] [--seed SEED]\n",
            "\n",
            "Language Modeling - PyTorch\n",
            "\n",
            "options:\n",
            "  -h, --help            show this help message and exit\n",
            "  --num_layers NUM_LAYERS\n",
            "                        number of lstm layers (default: 3)\n",
            "  --hidden_dim HIDDEN_DIM\n",
            "                        lstm layers hidden dimension (default: 1150)\n",
            "  --embed_dim EMBED_DIM\n",
            "                        embedding layer dimension (default: 400)\n",
            "  --dropoute DROPOUTE   embedding layer dropout (default: 0.1)\n",
            "  --dropouti DROPOUTI   lstms layer input dropout (default: 0.65)\n",
            "  --dropouth DROPOUTH   lstms hidden layer dropout (default: 0.3)\n",
            "  --dropouto DROPOUTO   lstms layer output dropout (default: 0.4)\n",
            "  --weight_drop WEIGHT_DROP\n",
            "                        weigth drop (default: 0)\n",
            "  --dataset DATASET     dataset path (default: data/wikitext-2)\n",
            "  --seq_len SEQ_LEN     sequence length (default: 70)\n",
            "  --epochs EPOCHS       number of epochs to train (default: 2)\n",
            "  --batch_size BATCH_SIZE\n",
            "                        input batch size for training (default: 80)\n",
            "  --lr LR               learning rate (default: 7.5)\n",
            "  --momentum MOMENTUM   momentum (default: 0.9)\n",
            "  --weight_decay WEIGHT_DECAY\n",
            "                        weight_decay (default: 1e-6)\n",
            "  --clip CLIP           clip (default: 1e-6)\n",
            "  --resume RESUME       put the path to resuming file if needed\n",
            "  --save_folder SAVE_FOLDER\n",
            "                        Directory for saving checkpoint models\n",
            "  --eval                evaluation only\n",
            "  --seed SEED           seed, use None for turning off (default: 8)\n"
          ]
        }
      ]
    },
    {
      "cell_type": "markdown",
      "source": [
        "If the --eval argument is provided, the training process will be skipped, and the script will instead load the model specified by --save_folder and evaluate it on the dataset. The evaluation results and metrics will be reported without any training happening."
      ],
      "metadata": {
        "id": "zTCu74mxFB8t"
      }
    },
    {
      "cell_type": "code",
      "source": [
        "!python src/train.py --eval"
      ],
      "metadata": {
        "id": "pvXMzQDwFESV"
      },
      "execution_count": null,
      "outputs": []
    },
    {
      "cell_type": "markdown",
      "source": [
        "**To generate text, run:**\n",
        "\n",
        "The input prompt is required.\n",
        "\n",
        "For additional options, see python generate.py --h."
      ],
      "metadata": {
        "id": "2G1x2hDgFbxT"
      }
    },
    {
      "cell_type": "code",
      "source": [
        "!python src/generate.py \"after a while,\""
      ],
      "metadata": {
        "colab": {
          "base_uri": "https://localhost:8080/"
        },
        "id": "DIyeNnQhi9yo",
        "outputId": "47e19188-3f3a-4ddc-85b1-b672e8525cb7"
      },
      "execution_count": 13,
      "outputs": [
        {
          "output_type": "stream",
          "name": "stdout",
          "text": [
            "after a while, she was sent to the first time , with considerable and two times , and that it was not being established .\n"
          ]
        }
      ]
    }
  ]
}